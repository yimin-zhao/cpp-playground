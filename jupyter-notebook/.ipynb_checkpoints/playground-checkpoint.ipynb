{
 "cells": [
  {
   "cell_type": "code",
   "execution_count": 2,
   "id": "patient-springer",
   "metadata": {},
   "outputs": [],
   "source": [
    "#include \"../include/general.hpp\""
   ]
  },
  {
   "cell_type": "code",
   "execution_count": 3,
   "id": "emerging-family",
   "metadata": {},
   "outputs": [
    {
     "name": "stdout",
     "output_type": "stream",
     "text": [
      "(1 , 2)\n"
     ]
    }
   ],
   "source": [
    "pair pr = {1, 2};\n",
    "cout << pr << endl;"
   ]
  },
  {
   "cell_type": "code",
   "execution_count": null,
   "id": "placed-peace",
   "metadata": {},
   "outputs": [],
   "source": []
  }
 ],
 "metadata": {
  "kernelspec": {
   "display_name": "C++17",
   "language": "C++17",
   "name": "xcpp17"
  },
  "language_info": {
   "codemirror_mode": "text/x-c++src",
   "file_extension": ".cpp",
   "mimetype": "text/x-c++src",
   "name": "c++",
   "version": "17"
  }
 },
 "nbformat": 4,
 "nbformat_minor": 5
}
